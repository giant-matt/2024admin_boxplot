{
 "cells": [
  {
   "cell_type": "code",
   "execution_count": 2,
   "id": "0ac1bf5b-0efd-45f8-b4cd-5e3f41ca806d",
   "metadata": {},
   "outputs": [
    {
     "data": {
      "application/vnd.jupyter.widget-view+json": {
       "model_id": "c94f7d89d75d4210afc9bd85c040d5f6",
       "version_major": 2,
       "version_minor": 0
      },
      "text/plain": [
       "interactive(children=(Dropdown(description='모집단위:', options=('인문대학 (국어국문학부)', '인문대학 (영어영문학과)', '인문대학 (일본어·일본학과…"
      ]
     },
     "metadata": {},
     "output_type": "display_data"
    },
    {
     "data": {
      "text/plain": [
       "<function __main__.update_graph(selected_unit)>"
      ]
     },
     "execution_count": 2,
     "metadata": {},
     "output_type": "execute_result"
    }
   ],
   "source": [
    "import pandas as pd\n",
    "import seaborn as sns\n",
    "import matplotlib.pyplot as plt\n",
    "import koreanize_matplotlib  # 한글 폰트 적용을 위해 필요\n",
    "import ipywidgets as widgets\n",
    "from ipywidgets import interact\n",
    "\n",
    "# Jupyter Notebook에서 matplotlib의 inline 모드 활성화\n",
    "%matplotlib inline\n",
    "\n",
    "# 데이터를 로드\n",
    "df = pd.read_csv('/Users/matt/Desktop/sw/2024admindata.csv', low_memory=False)\n",
    "\n",
    "# 단과대학과 모집단위를 결합하여 새로운 목록 만들기\n",
    "df['단과대학_모집단위'] = df['단과대학'] + ' (' + df['모집단위'] + ')'\n",
    "\n",
    "# 단과대학 + 모집단위 목록 생성\n",
    "단과대학_모집단위_list = df['단과대학_모집단위'].unique()\n",
    "\n",
    "# 그래프 업데이트 함수\n",
    "def update_graph(selected_unit):\n",
    "    # 이전 그래프를 닫음\n",
    "    plt.close()\n",
    "    \n",
    "    # 단과대학_모집단위에서 단과대학과 모집단위를 다시 분리\n",
    "    selected_college, selected_unit = selected_unit.split(' (')\n",
    "    selected_unit = selected_unit[:-1]  # 끝에 ')' 제거\n",
    "    \n",
    "    # 선택한 모집단위로 필터링\n",
    "    filtered_data = df[(df['모집단위'] == selected_unit) & \n",
    "                       (df['전형구분'].isin(['일반교과', '잠재역량', '지역인재', '지역인재(의예)']))].copy()\n",
    "\n",
    "    # 데이터가 없을 경우 처리\n",
    "    if filtered_data.empty:\n",
    "        print(f\"'{selected_unit}'에 대한 데이터가 없습니다.\")\n",
    "    else:\n",
    "        # 등록구분이 '등록'인 데이터 필터링 후 '등록'이라는 새로운 구분을 추가\n",
    "        filtered_data_registered = filtered_data[filtered_data['등록구분'] == '등록'].copy()\n",
    "        filtered_data_registered.loc[:, '구분'] = '등록'  # loc을 사용해 할당\n",
    "\n",
    "        # 등록구분 필터링을 하지 않은 데이터에도 '전체' 구분 추가\n",
    "        filtered_data.loc[:, '구분'] = '지원'  # loc을 사용해 할당\n",
    "\n",
    "        # 두 데이터셋 합치기\n",
    "        combined_data = pd.concat([filtered_data, filtered_data_registered])\n",
    "\n",
    "        # x축 순서를 설정 (일반교과, 잠재역량, 지역인재 순)\n",
    "        combined_data['전형구분'] = pd.Categorical(combined_data['전형구분'], categories=['일반교과', '잠재역량', '지역인재'], ordered=True)\n",
    "\n",
    "        # 박스 플롯 그리기 (등록/전체 구분을 색상으로 표시)\n",
    "        plt.figure(figsize=(8, 6))\n",
    "        sns.boxplot(x='전형구분', y='석차등급', hue='구분', data=combined_data, palette='Set2')\n",
    "        plt.title(f'{selected_college} {selected_unit} 전형별 석차등급')\n",
    "        plt.ylim(1, 9)  # y축 범위 설정\n",
    "        plt.xlabel('')\n",
    "        plt.ylabel('')\n",
    "        # 그래프 출력\n",
    "        plt.show()\n",
    "\n",
    "# 드롭다운 위젯 생성\n",
    "dropdown = widgets.Dropdown(\n",
    "    options=단과대학_모집단위_list,\n",
    "    description='모집단위:',\n",
    "    disabled=False,\n",
    ")\n",
    "\n",
    "# 드롭다운 선택에 따라 자동으로 그래프 업데이트\n",
    "interact(update_graph, selected_unit=dropdown)"
   ]
  },
  {
   "cell_type": "code",
   "execution_count": null,
   "id": "32f803bd-1070-419c-b816-bd6e78842170",
   "metadata": {},
   "outputs": [],
   "source": []
  }
 ],
 "metadata": {
  "kernelspec": {
   "display_name": "Python 3 (ipykernel)",
   "language": "python",
   "name": "python3"
  },
  "language_info": {
   "codemirror_mode": {
    "name": "ipython",
    "version": 3
   },
   "file_extension": ".py",
   "mimetype": "text/x-python",
   "name": "python",
   "nbconvert_exporter": "python",
   "pygments_lexer": "ipython3",
   "version": "3.13.0"
  }
 },
 "nbformat": 4,
 "nbformat_minor": 5
}
